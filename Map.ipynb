{
 "cells": [
  {
   "cell_type": "code",
   "execution_count": 445,
   "id": "06b72a97",
   "metadata": {},
   "outputs": [],
   "source": [
    "import cv2 as cv\n",
    "import numpy as np"
   ]
  },
  {
   "cell_type": "code",
   "execution_count": 446,
   "id": "6a7d37e7",
   "metadata": {},
   "outputs": [],
   "source": [
    "img = cv.imread('photos/aerial1.jpg')\n",
    "#img = cv.resize(img, (1024, 1024))"
   ]
  },
  {
   "cell_type": "code",
   "execution_count": 447,
   "id": "47da189e",
   "metadata": {},
   "outputs": [],
   "source": [
    "gray = cv.cvtColor(img, cv.COLOR_BGR2GRAY)\n",
    "blurred = cv.GaussianBlur(gray, (1, 1), 0)\n",
    "edges = cv.Canny(blurred, 50, 150)"
   ]
  },
  {
   "cell_type": "code",
   "execution_count": 448,
   "id": "2455f48f",
   "metadata": {},
   "outputs": [],
   "source": [
    "hsv = cv.cvtColor(img, cv.COLOR_BGR2HSV)\n",
    "\n",
    "lower_gray = np.array([0, 0, 0])\n",
    "upper_gray = np.array([180, 30, 255])\n",
    "road_mask = cv.inRange(hsv, lower_gray, upper_gray)\n",
    "\n",
    "lower_green = np.array([40, 40, 40])\n",
    "upper_green = np.array([80, 255, 255])\n",
    "park_mask = cv.inRange(hsv, lower_green, upper_green)\n",
    "\n",
    "combined_mask = cv.bitwise_or(road_mask, park_mask)"
   ]
  },
  {
   "cell_type": "code",
   "execution_count": 449,
   "id": "9645944e",
   "metadata": {},
   "outputs": [],
   "source": [
    "contours, _ = cv.findContours(combined_mask, cv.RETR_TREE, cv.CHAIN_APPROX_SIMPLE)\n",
    "\n",
    "map_canvas = np.zeros_like(img)\n",
    "\n",
    "for contour in contours:\n",
    "    epilson = 0.01 * cv.arcLength(contour, True)\n",
    "    approx = cv.approxPolyDP(contour, epilson, True)\n",
    "    \n",
    "    cv.drawContours(map_canvas, [approx], -1, (255, 255, 255), 2)"
   ]
  },
  {
   "cell_type": "code",
   "execution_count": 450,
   "id": "8a81f70a",
   "metadata": {},
   "outputs": [],
   "source": [
    "color_map = np.zeros_like(img)\n",
    "color_map[road_mask > 0] = [200, 200, 200]\n",
    "color_map[park_mask > 0] = [0, 255, 0]\n",
    "\n",
    "color_map = cv.addWeighted(color_map, 0.7, map_canvas, 0.5, 9)"
   ]
  },
  {
   "cell_type": "code",
   "execution_count": 451,
   "id": "fba17ba7",
   "metadata": {},
   "outputs": [],
   "source": [
    "cv.imshow('Map', color_map)\n",
    "#cv.imshow('Image',img)\n",
    "cv.waitKey(0)\n",
    "cv.destroyAllWindows()"
   ]
  },
  {
   "cell_type": "code",
   "execution_count": 452,
   "id": "6ac65e9c",
   "metadata": {},
   "outputs": [
    {
     "data": {
      "text/plain": [
       "True"
      ]
     },
     "execution_count": 452,
     "metadata": {},
     "output_type": "execute_result"
    }
   ],
   "source": [
    "cv.imwrite('photos/Map2.jpg', color_map)"
   ]
  },
  {
   "cell_type": "code",
   "execution_count": null,
   "id": "248e61be",
   "metadata": {},
   "outputs": [],
   "source": []
  }
 ],
 "metadata": {
  "kernelspec": {
   "display_name": "Python 3 (ipykernel)",
   "language": "python",
   "name": "python3"
  },
  "language_info": {
   "codemirror_mode": {
    "name": "ipython",
    "version": 3
   },
   "file_extension": ".py",
   "mimetype": "text/x-python",
   "name": "python",
   "nbconvert_exporter": "python",
   "pygments_lexer": "ipython3",
   "version": "3.10.9"
  }
 },
 "nbformat": 4,
 "nbformat_minor": 5
}
